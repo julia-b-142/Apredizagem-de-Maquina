{
  "nbformat": 4,
  "nbformat_minor": 0,
  "metadata": {
    "colab": {
      "provenance": [],
      "authorship_tag": "ABX9TyO7t9DcpSoEsl3ElP1pAD06",
      "include_colab_link": true
    },
    "kernelspec": {
      "name": "python3",
      "display_name": "Python 3"
    },
    "language_info": {
      "name": "python"
    }
  },
  "cells": [
    {
      "cell_type": "markdown",
      "metadata": {
        "id": "view-in-github",
        "colab_type": "text"
      },
      "source": [
        "<a href=\"https://colab.research.google.com/github/julia-b-142/Apredizagem-de-Maquina/blob/main/Notebook_Aula05.ipynb\" target=\"_parent\"><img src=\"https://colab.research.google.com/assets/colab-badge.svg\" alt=\"Open In Colab\"/></a>"
      ]
    },
    {
      "cell_type": "code",
      "source": [
        "# prompt: leia um arquivo CSV com 10 entradas conhecidas indicando: IMC, Obeso (true/false)\n",
        "# crie um código para Treinar uma máquina com os dados do csv que foi lido\n",
        "# crie um código para digitarmos um dado IMC (fora do range das entradas). A maquina deverá dizer se ele é obeso ou não.\n",
        "\n",
        "import pandas as pd\n",
        "from sklearn.model_selection import train_test_split\n",
        "from sklearn.linear_model import LogisticRegression\n",
        "from sklearn.metrics import accuracy_score\n",
        "\n",
        "# Carrega os dados do arquivo CSV\n",
        "data = pd.read_csv('dados_imc.txt')  # Substitua 'imc_data.csv' pelo nome do seu arquivo\n",
        "\n",
        "# Define as features (X) e o target (y)\n",
        "X = data['IMC'].values.reshape(-1, 1)\n",
        "y = data['Obeso'].values\n",
        "\n",
        "# Divide os dados em conjuntos de treinamento e teste\n",
        "X_train, X_test, y_train, y_test = train_test_split(X, y, test_size=0.2, random_state=42)\n",
        "\n",
        "# Cria e treina o modelo de regressão logística\n",
        "model = LogisticRegression()\n",
        "model.fit(X_train, y_train)\n",
        "\n",
        "# Faz previsões no conjunto de teste\n",
        "y_pred = model.predict(X_test)\n",
        "\n",
        "# Avalia a precisão do modelo\n",
        "accuracy = accuracy_score(y_test, y_pred)\n",
        "print(f'Acurácia do modelo: {accuracy}')\n",
        "\n",
        "# Função para prever a obesidade com base no IMC\n",
        "def prever_obesidade(imc):\n",
        "  \"\"\"\n",
        "  Prevê se uma pessoa é obesa com base no IMC usando o modelo treinado.\n",
        "\n",
        "  Args:\n",
        "    imc: O Índice de Massa Corporal (IMC) da pessoa.\n",
        "\n",
        "  Returns:\n",
        "    True se o modelo prever que a pessoa é obesa, False caso contrário.\n",
        "  \"\"\"\n",
        "\n",
        "  predicao = model.predict([[imc]])\n",
        "  return predicao[0]\n",
        "\n",
        "\n",
        "# Exemplo de uso\n",
        "novo_imc = float(input(\"Digite o valor do IMC: \"))\n",
        "obesidade = prever_obesidade(novo_imc)\n",
        "print(f\"Previsão para IMC {novo_imc}: Obeso = {obesidade}\")\n"
      ],
      "metadata": {
        "colab": {
          "base_uri": "https://localhost:8080/"
        },
        "id": "bFneXbDBBu3Z",
        "outputId": "2d91cc7a-3a73-498e-cd63-53966e71ed9e"
      },
      "execution_count": null,
      "outputs": [
        {
          "output_type": "stream",
          "name": "stdout",
          "text": [
            "Acurácia do modelo: 1.0\n"
          ]
        }
      ]
    }
  ]
}