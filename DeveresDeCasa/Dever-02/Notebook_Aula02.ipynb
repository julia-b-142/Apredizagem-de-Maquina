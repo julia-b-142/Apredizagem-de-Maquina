{
  "cells": [
    {
      "cell_type": "markdown",
      "metadata": {
        "colab_type": "text",
        "id": "view-in-github"
      },
      "source": [
        "<a href=\"https://colab.research.google.com/github/julia-b-142/Apredizagem-de-Maquina/blob/main/Notebook_Aula02.ipynb\" target=\"_parent\"><img src=\"https://colab.research.google.com/assets/colab-badge.svg\" alt=\"Open In Colab\"/></a>"
      ]
    },
    {
      "cell_type": "code",
      "execution_count": null,
      "metadata": {
        "colab": {
          "base_uri": "https://localhost:8080/"
        },
        "id": "-ibxGKS8w700",
        "outputId": "1bef3a0c-5461-442e-e63d-4d0ac56b1833"
      },
      "outputs": [],
      "source": [
        "# prompt: Desenvolver um programa em Python que receba uma frase inserida pelo usuário e realize diversas operações de análise e\n",
        "# formatação, demonstrando os conceitos visto em aula.\n",
        "# Requisitos:\n",
        "# 1. Entrada do Usuário:\n",
        "# - Solicitar ao usuário que insira uma frase.\n",
        "# - Verificar se a entrada não está vazia e tratar o erro caso necessário. (crie uma nova função no bloco de funções)\n",
        "# 2. Análise da Frase:\n",
        "# - Contagem de Caracteres: Calcular o número total de caracteres da frase (incluindo espaços).\n",
        "# - Contagem de Palavras: Dividir a frase em palavras (utilizando o método `split()`) e determinar quantas palavras existem.\n",
        "# - Maior Palavra: Identificar a palavra com o maior número de caracteres dentre as encontradas.\n",
        "# 3. Manipulação e Formatação:\n",
        "# - Inversão da Frase:\n",
        "# - Inverter a frase por meio dos caracteres (utilizando slicing\n",
        "# com `[::-1]`);\n",
        "# - Inverter a ordem das palavras e reconstruir a frase.\n",
        "# - Alteração de Caixa: Converter a frase para todas as letras\n",
        "# maiúsculas e para todas as letras minúsculas.\n",
        "# - Tupla de Palavras: Criar uma tupla contendo todas as\n",
        "# palavras da frase.\n",
        "# 4. Saída Formatada:\n",
        "# - Utilizar f-strings para exibir os resultados de forma\n",
        "# organizada, apresentando as seguintes informações:\n",
        "# - Número de caracteres da frase.\n",
        "# - Número de palavras.\n",
        "# - A palavra com maior comprimento.\n",
        "# - A frase invertida (por caracteres e por palavras).\n",
        "# - A frase em maiúsculas e minúsculas.\n",
        "# - A tupla formada pelas palavras da frase.\n",
        "\n",
        "def validar_entrada(frase):\n",
        "  \"\"\"Valida se a entrada do usuário não está vazia.\"\"\"\n",
        "  if not frase:\n",
        "    raise ValueError(\"A frase não pode estar vazia.\")\n",
        "  return frase\n",
        "\n",
        "\n",
        "def analisar_frase(frase):\n",
        "  \"\"\"Realiza a análise da frase inserida.\"\"\"\n",
        "\n",
        "  num_caracteres = len(frase)\n",
        "  palavras = frase.split()\n",
        "  num_palavras = len(palavras)\n",
        "  maior_palavra = max(palavras, key=len) if palavras else \"\"\n",
        "\n",
        "  frase_invertida_caracteres = frase[::-1]\n",
        "  frase_invertida_palavras = \" \".join(palavras[::-1])\n",
        "\n",
        "  frase_maiuscula = frase.upper()\n",
        "  frase_minuscula = frase.lower()\n",
        "\n",
        "  tupla_palavras = tuple(palavras)\n",
        "\n",
        "  return (\n",
        "      num_caracteres,\n",
        "      num_palavras,\n",
        "      maior_palavra,\n",
        "      frase_invertida_caracteres,\n",
        "      frase_invertida_palavras,\n",
        "      frase_maiuscula,\n",
        "      frase_minuscula,\n",
        "      tupla_palavras,\n",
        "  )\n",
        "\n",
        "\n",
        "if __name__ == \"__main__\":\n",
        "  try:\n",
        "    frase = input(\"Digite uma frase: \")\n",
        "    frase = validar_entrada(frase)  # Validar a entrada\n",
        "\n",
        "    (\n",
        "        num_caracteres,\n",
        "        num_palavras,\n",
        "        maior_palavra,\n",
        "        frase_invertida_caracteres,\n",
        "        frase_invertida_palavras,\n",
        "        frase_maiuscula,\n",
        "        frase_minuscula,\n",
        "        tupla_palavras,\n",
        "    ) = analisar_frase(frase)\n",
        "\n",
        "    print(f\"Número de caracteres: {num_caracteres}\")\n",
        "    print(f\"Número de palavras: {num_palavras}\")\n",
        "    print(f\"Maior palavra: {maior_palavra}\")\n",
        "    print(f\"Frase invertida (caracteres): {frase_invertida_caracteres}\")\n",
        "    print(f\"Frase invertida (palavras): {frase_invertida_palavras}\")\n",
        "    print(f\"Frase em maiúsculas: {frase_maiuscula}\")\n",
        "    print(f\"Frase em minúsculas: {frase_minuscula}\")\n",
        "    print(f\"Tupla de palavras: {tupla_palavras}\")\n",
        "\n",
        "  except ValueError as e:\n",
        "    print(f\"Erro: {e}\")\n"
      ]
    }
  ],
  "metadata": {
    "colab": {
      "authorship_tag": "ABX9TyP79UyQJxkkXB5hI4widyUU",
      "include_colab_link": true,
      "provenance": []
    },
    "kernelspec": {
      "display_name": "Python 3",
      "name": "python3"
    },
    "language_info": {
      "name": "python"
    }
  },
  "nbformat": 4,
  "nbformat_minor": 0
}
