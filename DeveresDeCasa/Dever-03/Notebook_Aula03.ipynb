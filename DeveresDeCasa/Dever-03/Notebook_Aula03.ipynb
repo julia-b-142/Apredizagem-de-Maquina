{
  "cells": [
    {
      "cell_type": "markdown",
      "metadata": {
        "colab_type": "text",
        "id": "view-in-github"
      },
      "source": [
        "<a href=\"https://colab.research.google.com/github/julia-b-142/Apredizagem-de-Maquina/blob/main/Notebook_Aula03.ipynb\" target=\"_parent\"><img src=\"https://colab.research.google.com/assets/colab-badge.svg\" alt=\"Open In Colab\"/></a>"
      ]
    },
    {
      "cell_type": "code",
      "execution_count": null,
      "metadata": {
        "colab": {
          "base_uri": "https://localhost:8080/"
        },
        "id": "ubxZ4a489QAy",
        "outputId": "976d1989-089d-4073-8767-55cfd2908c7a"
      },
      "outputs": [
        {
          "name": "stdout",
          "output_type": "stream",
          "text": [
            "Digite um nome: Ana\n",
            "Ana tem 25 anos, não é a pessoa mais velha da lista.\n"
          ]
        }
      ],
      "source": [
        "import csv\n",
        "\n",
        "# 1. Criar o arquivo dados.csv\n",
        "data = [\n",
        "    ['Nome', 'Idade'],\n",
        "    ['Ana', '25'],\n",
        "    ['Bruno', '30'],\n",
        "    ['Carla', '22'],\n",
        "    ['Daniel', '28'],\n",
        "    ['Eduardo', '35']\n",
        "]\n",
        "\n",
        "with open('dados.csv', 'w', newline='') as file:\n",
        "    writer = csv.writer(file)\n",
        "    writer.writerows(data)\n",
        "\n",
        "\n",
        "# 2. Ler o arquivo e armazenar os dados em uma lista\n",
        "nomes_idades = []\n",
        "with open('dados.csv', 'r') as file:\n",
        "    reader = csv.reader(file)\n",
        "    next(reader)  # Pula o cabeçalho\n",
        "    for row in reader:\n",
        "        nomes_idades.append(row)\n",
        "\n",
        "# Pedir ao usuário para digitar um nome\n",
        "nome_digitado = input(\"Digite um nome: \")\n",
        "\n",
        "# Verificar se o nome está na lista\n",
        "nome_encontrado = False\n",
        "for nome, idade in nomes_idades:\n",
        "    if nome == nome_digitado:\n",
        "        nome_encontrado = True\n",
        "        idade = int(idade)\n",
        "\n",
        "        # Encontrar a idade máxima\n",
        "        idades = [int(i) for _, i in nomes_idades]\n",
        "        maior_idade = max(idades)\n",
        "\n",
        "        if idade == maior_idade:\n",
        "            print(f\"{nome} tem {idade} anos, é a pessoa mais velha da lista.\")\n",
        "        else:\n",
        "            print(f\"{nome} tem {idade} anos, não é a pessoa mais velha da lista.\")\n",
        "        break\n",
        "\n",
        "if not nome_encontrado:\n",
        "    print(\"Nome não encontrado.\")\n"
      ]
    }
  ],
  "metadata": {
    "colab": {
      "authorship_tag": "ABX9TyMWGgfqXteW95byEljF8HDu",
      "include_colab_link": true,
      "provenance": []
    },
    "kernelspec": {
      "display_name": "Python 3",
      "name": "python3"
    },
    "language_info": {
      "name": "python"
    }
  },
  "nbformat": 4,
  "nbformat_minor": 0
}
