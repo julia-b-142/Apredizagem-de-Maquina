{
  "nbformat": 4,
  "nbformat_minor": 0,
  "metadata": {
    "colab": {
      "provenance": [],
      "authorship_tag": "ABX9TyPbXxLdJyJyPmXl/RMZsR2Y",
      "include_colab_link": true
    },
    "kernelspec": {
      "name": "python3",
      "display_name": "Python 3"
    },
    "language_info": {
      "name": "python"
    }
  },
  "cells": [
    {
      "cell_type": "markdown",
      "metadata": {
        "id": "view-in-github",
        "colab_type": "text"
      },
      "source": [
        "<a href=\"https://colab.research.google.com/github/julia-b-142/Apredizagem-de-Maquina/blob/main/Aula03.ipynb\" target=\"_parent\"><img src=\"https://colab.research.google.com/assets/colab-badge.svg\" alt=\"Open In Colab\"/></a>"
      ]
    },
    {
      "cell_type": "code",
      "execution_count": 6,
      "metadata": {
        "colab": {
          "base_uri": "https://localhost:8080/"
        },
        "id": "Nu0Vv-VYW4ly",
        "outputId": "91adaec9-bd6c-484a-d27c-f423338afaac"
      },
      "outputs": [
        {
          "output_type": "stream",
          "name": "stdout",
          "text": [
            "{'d', 2, '5', '8'}\n"
          ]
        }
      ],
      "source": [
        "# Imprime em qualquer ordem:\n",
        "\n",
        "setMeuConjunto = set()\n",
        "\n",
        "setMeuConjunto.add('5')\n",
        "setMeuConjunto.add('d')\n",
        "setMeuConjunto.add('8')\n",
        "setMeuConjunto.add(2)\n",
        "\n",
        "print (setMeuConjunto)"
      ]
    },
    {
      "cell_type": "code",
      "source": [
        "# Imprime elementos únicos:\n",
        "\n",
        "setMeuConjunto = set()\n",
        "setMeuConjunto.add('a')\n",
        "setMeuConjunto.add('d')\n",
        "setMeuConjunto.add('c')\n",
        "setMeuConjunto.add('a')\n",
        "setMeuConjunto.add('c')\n",
        "\n",
        "print (setMeuConjunto)"
      ],
      "metadata": {
        "colab": {
          "base_uri": "https://localhost:8080/"
        },
        "id": "cn3NwLSKZt8v",
        "outputId": "8a75c7a5-7ba4-4efc-f72d-512f7d58fb12"
      },
      "execution_count": 11,
      "outputs": [
        {
          "output_type": "stream",
          "name": "stdout",
          "text": [
            "{'d', 'a', 'c'}\n"
          ]
        }
      ]
    },
    {
      "cell_type": "code",
      "source": [
        "# Listas utilizam [] x Set utiliza {}\n",
        "lisMinhaLista = [1,1,1,1,2,2,21,3,4,51,23,1,2,3,5,8]\n",
        "\n",
        "print (lisMinhaLista)\n",
        "\n",
        "print (set(lisMinhaLista))"
      ],
      "metadata": {
        "colab": {
          "base_uri": "https://localhost:8080/"
        },
        "id": "NJKiRc7caCtn",
        "outputId": "35d9fd5e-ae1d-44a7-d772-dd8eee37fab9"
      },
      "execution_count": 13,
      "outputs": [
        {
          "output_type": "stream",
          "name": "stdout",
          "text": [
            "[1, 1, 1, 1, 2, 2, 21, 3, 4, 51, 23, 1, 2, 3, 5, 8]\n",
            "{1, 2, 3, 4, 5, 8, 51, 21, 23}\n"
          ]
        }
      ]
    },
    {
      "cell_type": "code",
      "source": [
        "#Arquivos – Criar e gravar\n",
        "f = open (\"meuArquivo.txt\",\"x\")\n",
        "f = open (\"meuArquivo.txt\",\"a\")\n",
        "\n",
        "f.write (\"Minha primeira linha.\")\n",
        "f.write (\"Minha segunda linha.\\nTerceira linha\")\n",
        "\n",
        "f.close()\n",
        "\n",
        "f = open(\"meuArquivo.txt\",\"r\")\n",
        "\n",
        "arqMeuArquivo = f.read()\n",
        "print (arqMeuArquivo)\n",
        "\n",
        "f.close()\n",
        "\n",
        "#Observação: Se o arquivo já foi criado o código dá erro"
      ],
      "metadata": {
        "colab": {
          "base_uri": "https://localhost:8080/"
        },
        "id": "hrXnc5T1asnY",
        "outputId": "63e66bc1-eba1-4a1f-e7e5-eb0db77f404e"
      },
      "execution_count": 18,
      "outputs": [
        {
          "output_type": "stream",
          "name": "stdout",
          "text": [
            "Minha primeira linha.Minha segunda linha.\n",
            "Terceira linha\n"
          ]
        }
      ]
    },
    {
      "cell_type": "code",
      "source": [
        "# prompt: Criar uma lista com os seguintes elementos, em ordem\n",
        "# alfabética:\n",
        "# Carro, Abajur, Moto, Barco, Ferro de passar roupa, “2”, Barco, moto\n",
        "# Gravar a lista em um arquivo APENAS com elementos únicos (sem estarem\n",
        "# repetidos). Atenção as letras maiúsculas e minúsculas e aos números\n",
        "# e strings.\n",
        "# DESAFIO: Garantir que os dados no arquivo estejam ordenados.\n",
        "\n",
        "# Criar uma lista com os elementos em ordem alfabética\n",
        "minha_lista = [\"Carro\", \"Abajur\", \"Moto\", \"Barco\", \"Ferro de passar roupa\", \"2\", \"Barco\", \"moto\"]\n",
        "minha_lista = sorted(minha_lista)\n",
        "\n",
        "\n",
        "# Converter a lista para um conjunto para remover elementos duplicados, mantendo a ordem\n",
        "meu_conjunto = sorted(list(set(minha_lista)))\n",
        "\n",
        "# Abrir o arquivo para escrita, sobrescrevendo o conteúdo existente\n",
        "f = open(\"elementos_unicos.txt\", \"w\")\n",
        "\n",
        "# Escrever cada elemento do conjunto em uma nova linha do arquivo\n",
        "for elemento in meu_conjunto:\n",
        "  f.write(str(elemento) + \"\\n\")\n",
        "\n",
        "# Fechar o arquivo\n",
        "f.close()\n"
      ],
      "metadata": {
        "id": "bDka0nTzb1Ig"
      },
      "execution_count": 26,
      "outputs": []
    },
    {
      "cell_type": "code",
      "source": [
        "for i in range (0,10,2):\n",
        "  print (i)"
      ],
      "metadata": {
        "colab": {
          "base_uri": "https://localhost:8080/"
        },
        "id": "hrkozD7wslCG",
        "outputId": "4356e59d-32c0-452b-fcd6-c2a7fb1d8b00"
      },
      "execution_count": 33,
      "outputs": [
        {
          "output_type": "stream",
          "name": "stdout",
          "text": [
            "0\n",
            "2\n",
            "4\n",
            "6\n",
            "8\n"
          ]
        }
      ]
    },
    {
      "cell_type": "code",
      "source": [
        "lstMinhaLista = [(1,2),(3,4),(4,5),(5,6),(7,8)]\n",
        "\n",
        "print (len(lstMinhaLista))\n",
        "\n",
        "for a,b in lstMinhaLista:\n",
        "  print (f'Este é o primeiro item da tupla: {a} e o segundo é: {b}')"
      ],
      "metadata": {
        "colab": {
          "base_uri": "https://localhost:8080/"
        },
        "id": "MrhVz2TqplAo",
        "outputId": "03b1770b-76e4-48e0-9213-3ec4466e116a"
      },
      "execution_count": 34,
      "outputs": [
        {
          "output_type": "stream",
          "name": "stdout",
          "text": [
            "5\n",
            "Este é o primeiro item da tupla: 1 e o segundo é: 2\n",
            "Este é o primeiro item da tupla: 3 e o segundo é: 4\n",
            "Este é o primeiro item da tupla: 4 e o segundo é: 5\n",
            "Este é o primeiro item da tupla: 5 e o segundo é: 6\n",
            "Este é o primeiro item da tupla: 7 e o segundo é: 8\n"
          ]
        }
      ]
    },
    {
      "cell_type": "code",
      "source": [
        "lstMinhaLista = [1,2,3,4,5]\n",
        "\n",
        "for qlqNome in lstMinhaLista:\n",
        "  print (qlqNome)"
      ],
      "metadata": {
        "colab": {
          "base_uri": "https://localhost:8080/"
        },
        "id": "09UCobvXsi4m",
        "outputId": "6305cec1-55bb-4a8b-872a-aa4f2449f099"
      },
      "execution_count": 35,
      "outputs": [
        {
          "output_type": "stream",
          "name": "stdout",
          "text": [
            "1\n",
            "2\n",
            "3\n",
            "4\n",
            "5\n"
          ]
        }
      ]
    },
    {
      "cell_type": "code",
      "source": [
        "lstMinhaLista = [1,2,3,4,5,6,7,8,9,10]\n",
        "\n",
        "for numero in lstMinhaLista:\n",
        "\n",
        "# Verificar se é um número par\n",
        "\n",
        "  if (numero % 2 == 0):\n",
        "\n",
        "    print (f'O número {numero} é par.')\n",
        "\n",
        "  else:\n",
        "\n",
        "    print (f'O número {numero} é ímpar.')"
      ],
      "metadata": {
        "colab": {
          "base_uri": "https://localhost:8080/"
        },
        "id": "fZR9geqNtRPQ",
        "outputId": "7c87195a-20ad-4367-ffea-c6f373f43673"
      },
      "execution_count": 36,
      "outputs": [
        {
          "output_type": "stream",
          "name": "stdout",
          "text": [
            "O número 1 é ímpar.\n",
            "O número 2 é par.\n",
            "O número 3 é ímpar.\n",
            "O número 4 é par.\n",
            "O número 5 é ímpar.\n",
            "O número 6 é par.\n",
            "O número 7 é ímpar.\n",
            "O número 8 é par.\n",
            "O número 9 é ímpar.\n",
            "O número 10 é par.\n"
          ]
        }
      ]
    },
    {
      "cell_type": "code",
      "source": [
        "lstMinhaLista = [(1,2),(3,4),(4,5),(5,6),(7,8)]\n",
        "\n",
        "print (len(lstMinhaLista))\n",
        "\n",
        "for item in lstMinhaLista:\n",
        "\n",
        "  print (item)"
      ],
      "metadata": {
        "colab": {
          "base_uri": "https://localhost:8080/"
        },
        "id": "zqzr9K47tZMH",
        "outputId": "73c1e6c9-4982-4386-e7f4-b691f3d61292"
      },
      "execution_count": 37,
      "outputs": [
        {
          "output_type": "stream",
          "name": "stdout",
          "text": [
            "5\n",
            "(1, 2)\n",
            "(3, 4)\n",
            "(4, 5)\n",
            "(5, 6)\n",
            "(7, 8)\n"
          ]
        }
      ]
    },
    {
      "cell_type": "code",
      "source": [
        "lstMinhaLista = [(1,2),(3,4),(4,5),(5,6),(7,8)]\n",
        "\n",
        "print (len(lstMinhaLista))\n",
        "\n",
        "for a,b in lstMinhaLista:\n",
        "\n",
        "  print (f'Este é o primeiro item da tupla: {a} e o segundo é: {b}')"
      ],
      "metadata": {
        "colab": {
          "base_uri": "https://localhost:8080/"
        },
        "id": "4kID1sEitjlY",
        "outputId": "c6ad7adb-f2d0-43ad-e260-01a41257c64e"
      },
      "execution_count": 38,
      "outputs": [
        {
          "output_type": "stream",
          "name": "stdout",
          "text": [
            "5\n",
            "Este é o primeiro item da tupla: 1 e o segundo é: 2\n",
            "Este é o primeiro item da tupla: 3 e o segundo é: 4\n",
            "Este é o primeiro item da tupla: 4 e o segundo é: 5\n",
            "Este é o primeiro item da tupla: 5 e o segundo é: 6\n",
            "Este é o primeiro item da tupla: 7 e o segundo é: 8\n"
          ]
        }
      ]
    },
    {
      "cell_type": "code",
      "source": [
        "lista1 = [1, 2, 3]\n",
        "\n",
        "lista2 = ['a', 'b', 'c']\n",
        "\n",
        "resultado = zip(lista1, lista2)\n",
        "\n",
        "for x,y in resultado:\n",
        "  print(f'Primeiro elemento: {x} e segundo: {y}')"
      ],
      "metadata": {
        "colab": {
          "base_uri": "https://localhost:8080/"
        },
        "id": "Ae-s6LHStohI",
        "outputId": "5864d6a6-6ea6-466f-8f6e-2f5858dd1318"
      },
      "execution_count": 40,
      "outputs": [
        {
          "output_type": "stream",
          "name": "stdout",
          "text": [
            "Primeiro elemento: 1 e segundo: a\n",
            "Primeiro elemento: 2 e segundo: b\n",
            "Primeiro elemento: 3 e segundo: c\n"
          ]
        }
      ]
    },
    {
      "cell_type": "code",
      "source": [
        "lstMinhaLista1 = [1,2,3]\n",
        "\n",
        "lstMinhaLista2 = ['a','b','c']\n",
        "\n",
        "lstMinhaLista3 = [100,200,300]\n",
        "\n",
        "lstMinhaLista4 = list(zip(lstMinhaLista1,lstMinhaLista2,lstMinhaLista3))\n",
        "\n",
        "print (lstMinhaLista4)"
      ],
      "metadata": {
        "colab": {
          "base_uri": "https://localhost:8080/"
        },
        "id": "LEcDqBn2t4mb",
        "outputId": "72721c33-adcd-4972-9112-ebbe738c2034"
      },
      "execution_count": 41,
      "outputs": [
        {
          "output_type": "stream",
          "name": "stdout",
          "text": [
            "[(1, 'a', 100), (2, 'b', 200), (3, 'c', 300)]\n"
          ]
        }
      ]
    },
    {
      "cell_type": "code",
      "source": [
        "lstMinhaLista1 = [1,2,3]\n",
        "\n",
        "print (1 in lstMinhaLista1)"
      ],
      "metadata": {
        "colab": {
          "base_uri": "https://localhost:8080/"
        },
        "id": "scqliUqHreuF",
        "outputId": "e6282fdf-5ea5-40ca-cdbb-61441738fc41"
      },
      "execution_count": 31,
      "outputs": [
        {
          "output_type": "stream",
          "name": "stdout",
          "text": [
            "True\n"
          ]
        }
      ]
    },
    {
      "cell_type": "code",
      "source": [
        "lstMinhaLista1 = [1,2,7,4,5]\n",
        "\n",
        "print (max(lstMinhaLista1))\n",
        "\n",
        "print (min(lstMinhaLista1))"
      ],
      "metadata": {
        "colab": {
          "base_uri": "https://localhost:8080/"
        },
        "id": "edmMnVwQuAB-",
        "outputId": "9c5d4719-4b54-4903-95b3-d61eefdbe87f"
      },
      "execution_count": 43,
      "outputs": [
        {
          "output_type": "stream",
          "name": "stdout",
          "text": [
            "7\n",
            "1\n"
          ]
        }
      ]
    },
    {
      "cell_type": "code",
      "source": [
        "import random\n",
        "\n",
        "# Cria uma lista com 10 números aleatórios entre 1 e 100\n",
        "\n",
        "lstNumeros = [random.randint(1, 100) for _ in range(10)]\n",
        "print (lstNumeros)\n",
        "\n",
        "# Cria uma lista de 10 números distintos entre 1 e 100\n",
        "\n",
        "lstUnica = random.sample(range(1, 101), 10)\n",
        "\n",
        "print (lstUnica)"
      ],
      "metadata": {
        "colab": {
          "base_uri": "https://localhost:8080/"
        },
        "id": "6NTWcXZ9uGeX",
        "outputId": "06d1b459-b9fd-4047-ddc8-31fd2555cd44"
      },
      "execution_count": 55,
      "outputs": [
        {
          "output_type": "stream",
          "name": "stdout",
          "text": [
            "[11, 3, 51, 70, 2, 73, 55, 18, 40, 39]\n",
            "[95, 29, 74, 24, 58, 59, 66, 97, 20, 38]\n"
          ]
        }
      ]
    },
    {
      "cell_type": "code",
      "source": [
        "# prompt: Crie uma lista com 10 itens randômicos e encontre o maior\n",
        "# deles.\n",
        "\n",
        "import random\n",
        "\n",
        "# Cria uma lista com 10 números aleatórios entre 1 e 100\n",
        "lstNumeros = [random.randint(1, 100) for _ in range(10)]\n",
        "print(lstNumeros)\n",
        "\n",
        "# Encontra o maior número na lista\n",
        "maior_numero = max(lstNumeros)\n",
        "print(f\"O maior número na lista é: {maior_numero}\")\n"
      ],
      "metadata": {
        "colab": {
          "base_uri": "https://localhost:8080/"
        },
        "id": "Bhzs7wmCuoKP",
        "outputId": "1464debc-32eb-4605-d25b-df0cb821dfa1"
      },
      "execution_count": 56,
      "outputs": [
        {
          "output_type": "stream",
          "name": "stdout",
          "text": [
            "[61, 100, 49, 53, 24, 67, 30, 78, 77, 46]\n",
            "O maior número na lista é: 100\n"
          ]
        }
      ]
    }
  ]
}