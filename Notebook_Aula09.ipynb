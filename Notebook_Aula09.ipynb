{
  "nbformat": 4,
  "nbformat_minor": 0,
  "metadata": {
    "colab": {
      "provenance": [],
      "authorship_tag": "ABX9TyNHRDDC5LJZFdZBWyVKMx+b",
      "include_colab_link": true
    },
    "kernelspec": {
      "name": "python3",
      "display_name": "Python 3"
    },
    "language_info": {
      "name": "python"
    }
  },
  "cells": [
    {
      "cell_type": "markdown",
      "metadata": {
        "id": "view-in-github",
        "colab_type": "text"
      },
      "source": [
        "<a href=\"https://colab.research.google.com/github/julia-b-142/Apredizagem-de-Maquina/blob/main/Notebook_Aula09.ipynb\" target=\"_parent\"><img src=\"https://colab.research.google.com/assets/colab-badge.svg\" alt=\"Open In Colab\"/></a>"
      ]
    },
    {
      "cell_type": "code",
      "source": [
        "import matplotlib.pyplot as plt\n",
        "import numpy as np\n",
        "from matplotlib import pyplot as plt\n",
        "from sklearn import neighbors, datasets\n",
        "from sklearn.model_selection import train_test_split\n",
        "from matplotlib.colors import ListedColormap\n",
        "from sklearn.metrics import accuracy_score\n",
        "\n",
        "# Carregando o dataset iris\n",
        "iris = datasets.load_iris()\n",
        "X = iris.data[:, :2]  # Pegar apenas as duas primeiras características\n",
        "y = iris.target\n",
        "\n",
        "# Dividindo os dados em conjuntos de treino e teste com train_size = 0.4\n",
        "X_train, X_test, y_train, y_test = train_test_split(X, y, train_size=0.4, random_state=0)\n",
        "\n",
        "# Calculando porcentagens\n",
        "total_amostras = len(X)\n",
        "qtd_treino = len(X_train)\n",
        "qtd_teste = len(X_test)\n",
        "percent_treino = (qtd_treino / total_amostras) * 100\n",
        "percent_teste = (qtd_teste / total_amostras) * 100\n",
        "\n",
        "# Imprimindo as informações\n",
        "print(f\"Quantidade de itens na amostra de teste: {qtd_teste} itens, que correspondem a {percent_teste:.1f}% da amostra.\")\n",
        "\n"
      ],
      "metadata": {
        "id": "IWeiPdN5AYHq"
      },
      "execution_count": null,
      "outputs": []
    }
  ]
}