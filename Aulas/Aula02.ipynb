{
  "cells": [
    {
      "cell_type": "markdown",
      "metadata": {
        "colab_type": "text",
        "id": "view-in-github"
      },
      "source": [
        "<a href=\"https://colab.research.google.com/github/julia-b-142/apredizagem-de-maquina/blob/main/Aula01.ipynb\" target=\"_parent\"><img src=\"https://colab.research.google.com/assets/colab-badge.svg\" alt=\"Open In Colab\"/></a>"
      ]
    },
    {
      "cell_type": "code",
      "execution_count": 1,
      "metadata": {
        "colab": {
          "base_uri": "https://localhost:8080/"
        },
        "id": "jEG-CzKyqXtJ",
        "outputId": "158229ed-497f-41d1-dd4f-07b932896b7d"
      },
      "outputs": [
        {
          "name": "stdout",
          "output_type": "stream",
          "text": [
            "P\n",
            "ablo\n",
            "Pablo\n",
            "é professor\n"
          ]
        }
      ],
      "source": [
        "strMinhaString = 'Pablo é professor de ADS'\n",
        "\n",
        "print (strMinhaString[0])\n",
        "\n",
        "print (strMinhaString[1:5])\n",
        "\n",
        "print (strMinhaString[0:5] + '\\n' + strMinhaString[6:17])"
      ]
    },
    {
      "cell_type": "code",
      "execution_count": 5,
      "metadata": {
        "colab": {
          "base_uri": "https://localhost:8080/"
        },
        "id": "B26D_o51qwh9",
        "outputId": "afba8b0a-efb8-4e0f-ee28-842398c12133"
      },
      "outputs": [
        {
          "name": "stdout",
          "output_type": "stream",
          "text": [
            " é professor de ADS\n",
            "Pablo\n",
            "d\n",
            "Pablo é professor de ADS\n",
            "Pboépoesrd D\n"
          ]
        }
      ],
      "source": [
        "strMinhaString = 'Pablo é professor de ADS'\n",
        "\n",
        "print (strMinhaString[5:])\n",
        "\n",
        "print (strMinhaString[:5])\n",
        "\n",
        "print (strMinhaString[-6])\n",
        "\n",
        "print (strMinhaString[::])\n",
        "\n",
        "print (strMinhaString[::2])"
      ]
    },
    {
      "cell_type": "code",
      "execution_count": 9,
      "metadata": {
        "colab": {
          "base_uri": "https://localhost:8080/"
        },
        "id": "H56RwjLZq8wN",
        "outputId": "ed6ff4e1-ee4d-4b1d-e595-a9cedcc6262d"
      },
      "outputs": [
        {
          "name": "stdout",
          "output_type": "stream",
          "text": [
            "2468\n",
            "987654321\n"
          ]
        }
      ],
      "source": [
        "strMinhaString = '123456789'\n",
        "\n",
        "print (strMinhaString[1:7:2])\n",
        "\n",
        "print (strMinhaString[::-1])"
      ]
    },
    {
      "cell_type": "code",
      "execution_count": 18,
      "metadata": {
        "colab": {
          "base_uri": "https://localhost:8080/"
        },
        "id": "Fr2PlCIKrc8O",
        "outputId": "5c5582b6-5b91-4140-d7a1-3ef1a9004dac"
      },
      "outputs": [
        {
          "name": "stdout",
          "output_type": "stream",
          "text": [
            "P\n"
          ]
        }
      ],
      "source": [
        "strMinhaString = 'Pablo é professor de ADS'\n",
        "\n",
        "#strMinhaString[0] = 'C'\n",
        "\n",
        "srtMinhaNovaString = strMinhaString[0]\n",
        "\n",
        "print (srtMinhaNovaString)"
      ]
    },
    {
      "cell_type": "code",
      "execution_count": 20,
      "metadata": {
        "colab": {
          "base_uri": "https://localhost:8080/"
        },
        "id": "_mkAUfIDsnvj",
        "outputId": "e502f1a4-0f2e-4fed-cab8-f6792dd9fcef"
      },
      "outputs": [
        {
          "name": "stdout",
          "output_type": "stream",
          "text": [
            "Pablo é professor\n"
          ]
        }
      ],
      "source": [
        "strMinhaString = 'Pablo'\n",
        "\n",
        "strMinhaString = strMinhaString + ' é professor'\n",
        "\n",
        "print (strMinhaString)"
      ]
    },
    {
      "cell_type": "code",
      "execution_count": null,
      "metadata": {
        "colab": {
          "base_uri": "https://localhost:8080/",
          "height": 53
        },
        "id": "Ry2bcKgssvcB",
        "outputId": "0db5be3c-1e95-4970-8f67-7d0c234f9ba5"
      },
      "outputs": [
        {
          "name": "stdout",
          "output_type": "stream",
          "text": [
            "Julia\n"
          ]
        },
        {
          "data": {
            "application/vnd.google.colaboratory.intrinsic+json": {
              "type": "string"
            },
            "text/plain": [
              "'Julia'"
            ]
          },
          "execution_count": 21,
          "metadata": {},
          "output_type": "execute_result"
        }
      ],
      "source": [
        "strMeuNome = \"Julia B Silva\"  # Substitua \"Seu Nome Completo\" pelo seu nome\n",
        "\n",
        "# Usando slice\n",
        "primeiro_nome_slice = strMeuNome[:strMeuNome.find(' ')]\n",
        "print(primeiro_nome_slice)\n",
        "\n",
        "# Usando split\n",
        "primeiro_nome_split = strMeuNome.split()[0]\n",
        "primeiro_nome_split\n"
      ]
    },
    {
      "cell_type": "code",
      "execution_count": 23,
      "metadata": {
        "colab": {
          "base_uri": "https://localhost:8080/"
        },
        "id": "4Kz9eACBuRn2",
        "outputId": "1f5e39f1-d372-48df-ea51-df6ace1b45e8"
      },
      "outputs": [
        {
          "name": "stdout",
          "output_type": "stream",
          "text": [
            "O nome é Pablo.\n",
            "O nome é 'Pablo'.\n",
            "O nome é Pablo \t Coelho.\n",
            "O nome é 'Pablo \\t Coelho'.\n"
          ]
        }
      ],
      "source": [
        "print ('O nome é %s.'%'Pablo')\n",
        "\n",
        "print ('O nome é %r.'%'Pablo')\n",
        "\n",
        "print ('O nome é %s.'%'Pablo \\t Coelho')\n",
        "\n",
        "print ('O nome é %r.'%'Pablo \\t Coelho')"
      ]
    },
    {
      "cell_type": "code",
      "execution_count": 25,
      "metadata": {
        "colab": {
          "base_uri": "https://localhost:8080/"
        },
        "id": "qenhGD5BvksK",
        "outputId": "dfa443c4-7267-4a7d-bab9-668e474dd32e"
      },
      "outputs": [
        {
          "name": "stdout",
          "output_type": "stream",
          "text": [
            "O Pablo tem R$ 3.75 na carteira.\n",
            "O Pablo tem R$ 3 na carteira.\n",
            "Ponto flutuante: 13.14\n",
            "Ponto flutuante: 13\n",
            "Ponto flutuante: 13.14400\n",
            "Ponto flutuante:      13.14\n",
            "Ponto flutuante: 13.14\n"
          ]
        }
      ],
      "source": [
        "print ('O Pablo tem R$ %s na carteira.' %3.75)\n",
        "\n",
        "print ('O Pablo tem R$ %d na carteira.' %3.75)\n",
        "\n",
        "print ('Ponto flutuante: %5.2f' %(13.144))\n",
        "\n",
        "print ('Ponto flutuante: %1.0f' %(13.144))\n",
        "\n",
        "print ('Ponto flutuante: %1.5f' %(13.144))\n",
        "\n",
        "print ('Ponto flutuante: %10.2f' %(13.144))\n",
        "\n",
        "print ('Ponto flutuante: %1.2f' %(13.144))"
      ]
    },
    {
      "cell_type": "code",
      "execution_count": 28,
      "metadata": {
        "colab": {
          "base_uri": "https://localhost:8080/"
        },
        "id": "Ktfm-PO4wEdS",
        "outputId": "25161dfe-4ee1-4dd3-9e59-9f12c27447cc"
      },
      "outputs": [
        {
          "name": "stdout",
          "output_type": "stream",
          "text": [
            "5\n",
            "3\n",
            "4\n"
          ]
        }
      ],
      "source": [
        "# prompt: Crie uma Tuple com as cinco primeiras letras do alfabeto, em\n",
        "# minúsculas, em ordem, mas repetindo a letra ‘a’ três vezes.\n",
        "# Imprima o tamanho da Tuple.\n",
        "# Imprima quantas letras ‘a’ existem na Tuple.\n",
        "# Imprima a posição da letra ‘c’.\n",
        "\n",
        "# Crie uma Tuple com as cinco primeiras letras do alfabeto, em minúsculas, em ordem, mas repetindo a letra ‘a’ três vezes.\n",
        "minha_tuple = ('a', 'a', 'a', 'b', 'c')\n",
        "\n",
        "# Imprima o tamanho da Tuple.\n",
        "print(len(minha_tuple))\n",
        "\n",
        "# Imprima quantas letras ‘a’ existem na Tuple.\n",
        "print(minha_tuple.count('a'))\n",
        "\n",
        "# Imprima a posição da letra ‘c’.\n",
        "print(minha_tuple.index('c'))\n"
      ]
    }
  ],
  "metadata": {
    "colab": {
      "authorship_tag": "ABX9TyMqL7BNudLenbW0z4lHgA6I",
      "include_colab_link": true,
      "provenance": []
    },
    "kernelspec": {
      "display_name": "Python 3",
      "name": "python3"
    },
    "language_info": {
      "name": "python"
    }
  },
  "nbformat": 4,
  "nbformat_minor": 0
}
