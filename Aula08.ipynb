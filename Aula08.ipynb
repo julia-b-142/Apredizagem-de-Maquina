{
  "nbformat": 4,
  "nbformat_minor": 0,
  "metadata": {
    "colab": {
      "provenance": [],
      "authorship_tag": "ABX9TyMmvrEi8CR5y/C2sdpTROXB",
      "include_colab_link": true
    },
    "kernelspec": {
      "name": "python3",
      "display_name": "Python 3"
    },
    "language_info": {
      "name": "python"
    }
  },
  "cells": [
    {
      "cell_type": "markdown",
      "metadata": {
        "id": "view-in-github",
        "colab_type": "text"
      },
      "source": [
        "<a href=\"https://colab.research.google.com/github/julia-b-142/Apredizagem-de-Maquina/blob/main/Aula08.ipynb\" target=\"_parent\"><img src=\"https://colab.research.google.com/assets/colab-badge.svg\" alt=\"Open In Colab\"/></a>"
      ]
    },
    {
      "cell_type": "code",
      "execution_count": 1,
      "metadata": {
        "id": "NqTBCA-wBfWA",
        "colab": {
          "base_uri": "https://localhost:8080/"
        },
        "outputId": "4e7850eb-50db-4a65-c3b2-1a3ad4a07661"
      },
      "outputs": [
        {
          "name": "stdout",
          "output_type": "stream",
          "text": [
            "Digite o comprimento da sépala (cm): 1\n",
            "Digite a largura da sépala (cm): 1\n",
            "Digite o comprimento da pétala (cm): 1\n",
            "Digite a largura da pétala (cm): 1\n",
            "A flor prevista é: setosa\n",
            "Deseja classificar outra flor? (s/n): n\n"
          ]
        }
      ],
      "source": [
        "#EXERCICIO EM AULA\n",
        "from sklearn.datasets import load_iris\n",
        "from sklearn.ensemble import RandomForestClassifier\n",
        "\n",
        "# 1. Carregue os dados das flores (íris).\n",
        "iris = load_iris()\n",
        "X = iris.data  # Características\n",
        "y = iris.target  # Espécies (rótulos)\n",
        "nomes_especies = iris.target_names  # Nomes das espécies\n",
        "\n",
        "# 2. Treine sua máquina com os dados da base de dados IRIS.\n",
        "modelo = RandomForestClassifier()\n",
        "modelo.fit(X, y)\n",
        "\n",
        "# 3. A partir de quatro entradas do usuário imprima o nome da flor no console.\n",
        "while True:\n",
        "  try:\n",
        "    entrada1 = float(input(\"Digite o comprimento da sépala (cm): \"))\n",
        "    entrada2 = float(input(\"Digite a largura da sépala (cm): \"))\n",
        "    entrada3 = float(input(\"Digite o comprimento da pétala (cm): \"))\n",
        "    entrada4 = float(input(\"Digite a largura da pétala (cm): \"))\n",
        "\n",
        "    # Crie um array com as entradas do usuário\n",
        "    nova_flor = [[entrada1, entrada2, entrada3, entrada4]]\n",
        "\n",
        "    # Preveja a espécie da flor\n",
        "    previsao = modelo.predict(nova_flor)\n",
        "\n",
        "    # Imprima o nome da espécie prevista\n",
        "    print(f\"A flor prevista é: {nomes_especies[previsao[0]]}\")\n",
        "\n",
        "    continuar = input(\"Deseja classificar outra flor? (s/n): \")\n",
        "    if continuar.lower() != 's':\n",
        "      break\n",
        "\n",
        "  except ValueError:\n",
        "    print(\"Entrada inválida. Por favor, digite um número.\")\n"
      ]
    },
    {
      "cell_type": "code",
      "source": [
        "# DEVER DE CASA\n",
        "from sklearn.datasets import load_iris\n",
        "from sklearn.neighbors import KNeighborsClassifier\n",
        "\n",
        "# 1. Carregue os dados das flores (íris).\n",
        "iris = load_iris()\n",
        "X = iris.data  # Características\n",
        "y = iris.target  # Espécies (rótulos)\n",
        "nomes_especies = iris.target_names  # Nomes das espécies\n",
        "\n",
        "# 2. Treine sua máquina com os dados da base de dados IRIS usando KNeighborsClassifier.\n",
        "modelo = KNeighborsClassifier(n_neighbors=3)\n",
        "modelo.fit(X, y)\n",
        "\n",
        "# Função para pedir uma entrada numérica segura\n",
        "def pedir_float(mensagem):\n",
        "    while True:\n",
        "        entrada = input(mensagem).strip()\n",
        "        if not entrada:\n",
        "            print(\"Entrada vazia. Por favor, digite um número válido.\")\n",
        "            continue\n",
        "        try:\n",
        "            return float(entrada)\n",
        "        except ValueError:\n",
        "            print(\"Entrada inválida. Por favor, digite um número válido.\")\n",
        "\n",
        "# Função para perguntar se deseja continuar\n",
        "def deseja_continuar():\n",
        "    while True:\n",
        "        resposta = input(\"Deseja classificar outra flor? (s/n): \").strip().lower()\n",
        "        if resposta in ['s', 'n']:\n",
        "            return resposta == 's'\n",
        "        else:\n",
        "            print(\"Resposta inválida. Digite 's' para sim ou 'n' para não.\")\n",
        "\n",
        "# 3. A partir de quatro entradas do usuário, imprima o nome da flor no console.\n",
        "while True:\n",
        "    entrada1 = pedir_float(\"Digite o comprimento da sépala (cm): \")\n",
        "    entrada2 = pedir_float(\"Digite a largura da sépala (cm): \")\n",
        "    entrada3 = pedir_float(\"Digite o comprimento da pétala (cm): \")\n",
        "    entrada4 = pedir_float(\"Digite a largura da pétala (cm): \")\n",
        "\n",
        "    # Crie um array com as entradas do usuário\n",
        "    nova_flor = [[entrada1, entrada2, entrada3, entrada4]]\n",
        "\n",
        "    # Preveja a espécie da flor\n",
        "    previsao = modelo.predict(nova_flor)\n",
        "\n",
        "    # Imprima o nome da espécie prevista\n",
        "    print(f\"A flor prevista é: {nomes_especies[previsao[0]]}\")\n",
        "\n",
        "    if not deseja_continuar():\n",
        "        print(\"Programa encerrado.\")\n",
        "        break\n"
      ],
      "metadata": {
        "colab": {
          "base_uri": "https://localhost:8080/"
        },
        "id": "aqZMajJDWzyC",
        "outputId": "1fe0d375-d40a-4400-b600-47ff1cfb5e6f"
      },
      "execution_count": null,
      "outputs": [
        {
          "output_type": "stream",
          "name": "stdout",
          "text": [
            "Digite o comprimento da sépala (cm): f\n",
            "Entrada inválida. Por favor, digite um número válido.\n",
            "Digite o comprimento da sépala (cm): 5555555\n",
            "Digite a largura da sépala (cm): 55555555\n",
            "Digite o comprimento da pétala (cm): 555555555\n",
            "Digite a largura da pétala (cm): 5555555555\n",
            "A flor prevista é: virginica\n",
            "Deseja classificar outra flor? (s/n): 5\n",
            "Resposta inválida. Digite 's' para sim ou 'n' para não.\n",
            "Deseja classificar outra flor? (s/n): n\n",
            "Programa encerrado.\n"
          ]
        }
      ]
    }
  ]
}